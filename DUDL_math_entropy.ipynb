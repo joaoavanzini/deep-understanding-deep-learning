{
  "nbformat": 4,
  "nbformat_minor": 0,
  "metadata": {
    "colab": {
      "provenance": []
    },
    "kernelspec": {
      "name": "python3",
      "display_name": "Python 3"
    },
    "language_info": {
      "name": "python"
    }
  },
  "cells": [
    {
      "cell_type": "markdown",
      "metadata": {
        "id": "bhWV8oes-wKR"
      },
      "source": [
        "# COURSE: A deep understanding of deep learning\n",
        "## SECTION: Math prerequisites\n",
        "### LECTURE: Entropy and cross-entropy\n",
        "#### TEACHER: Mike X Cohen, sincxpress.com\n",
        "##### STUDENT: João Avanzini\n",
        "###### COURSE URL: udemy.com/course/deeplearning_x/?couponCode=202305"
      ]
    },
    {
      "cell_type": "code",
      "metadata": {
        "id": "2TD8IyfBGXiY"
      },
      "source": [
        "# import libraries\n",
        "import numpy as np\n",
        "import matplotlib.pyplot as plt"
      ],
      "execution_count": 1,
      "outputs": []
    },
    {
      "cell_type": "markdown",
      "metadata": {
        "id": "yo63BJPf0cau"
      },
      "source": [
        "# Reminder of entropy:\n",
        "\n",
        "$$H(p) = -\\sum_x p(x)\\log(p(x))$$"
      ]
    },
    {
      "cell_type": "code",
      "metadata": {
        "id": "vmjUxlEqGbDu",
        "colab": {
          "base_uri": "https://localhost:8080/"
        },
        "outputId": "8a26cbe7-a839-447b-ad59-b9c040ac314c"
      },
      "source": [
        "# probability of an event happening\n",
        "p = .25\n",
        "\n",
        "# NOT the correct formula!\n",
        "H = -( p*np.log(p) )\n",
        "print('Wrong entropy: ' + str(H))"
      ],
      "execution_count": 2,
      "outputs": [
        {
          "output_type": "stream",
          "name": "stdout",
          "text": [
            "Wrong entropy: 0.34657359027997264\n"
          ]
        }
      ]
    },
    {
      "cell_type": "code",
      "metadata": {
        "id": "HdZadwd12RGv",
        "colab": {
          "base_uri": "https://localhost:8080/"
        },
        "outputId": "60704bc6-a5fd-48bf-f74f-6a2903b6946d"
      },
      "source": [
        " # the correct way to compute entropy\n",
        "x = [.25,.75]\n",
        "\n",
        "H = 0\n",
        "for p in x:\n",
        "  H -= p*np.log(p)\n",
        "\n",
        "print('Correct entropy: ' + str(H))"
      ],
      "execution_count": 3,
      "outputs": [
        {
          "output_type": "stream",
          "name": "stdout",
          "text": [
            "Correct entropy: 0.5623351446188083\n"
          ]
        }
      ]
    },
    {
      "cell_type": "code",
      "metadata": {
        "id": "R_bGT7kd2ipR",
        "colab": {
          "base_uri": "https://localhost:8080/"
        },
        "outputId": "26617e3a-1961-4759-f833-b9e4f74a44ec"
      },
      "source": [
        "# also correct, written out for N=2 events\n",
        "\n",
        "# Binary cross-entropy\n",
        "H = -( p*np.log(p) + (1-p)*np.log(1-p) )\n",
        "print('Correct entropy: ' + str(H))"
      ],
      "execution_count": 4,
      "outputs": [
        {
          "output_type": "stream",
          "name": "stdout",
          "text": [
            "Correct entropy: 0.5623351446188083\n"
          ]
        }
      ]
    },
    {
      "cell_type": "markdown",
      "metadata": {
        "id": "qFN5779d1ebD"
      },
      "source": [
        "# Cross-entropy"
      ]
    },
    {
      "cell_type": "code",
      "metadata": {
        "id": "sOug_tPzHY1y",
        "colab": {
          "base_uri": "https://localhost:8080/"
        },
        "outputId": "e2699b4d-8c1f-4561-d3bf-d53098274acf"
      },
      "source": [
        "# note: all probs must sum to 1!\n",
        "p = [   1,0   ] # sum=1\n",
        "q = [ .25,.75 ] # sum=1\n",
        "\n",
        "H = 0\n",
        "for i in range(len(p)):\n",
        "  H -= p[i]*np.log(q[i])\n",
        "\n",
        "print('Cross entropy: ' + str(H))"
      ],
      "execution_count": 5,
      "outputs": [
        {
          "output_type": "stream",
          "name": "stdout",
          "text": [
            "Cross entropy: 1.3862943611198906\n"
          ]
        }
      ]
    },
    {
      "cell_type": "code",
      "metadata": {
        "id": "8H1p7JUr3Pn4",
        "colab": {
          "base_uri": "https://localhost:8080/"
        },
        "outputId": "01e78503-282c-4634-f079-2d3f3f62129b"
      },
      "source": [
        "# also correct, written out for N=2 events\n",
        "H = -( p[0]*np.log(q[0]) + p[1]*np.log(q[1]) )\n",
        "print('Correct entropy: ' + str(H))\n",
        "\n",
        "# simplification\n",
        "H = -np.log(q[0])\n",
        "print('Manually simplified: ' + str(H))"
      ],
      "execution_count": 6,
      "outputs": [
        {
          "output_type": "stream",
          "name": "stdout",
          "text": [
            "Correct entropy: 1.3862943611198906\n",
            "Manually simplified: 1.3862943611198906\n"
          ]
        }
      ]
    },
    {
      "cell_type": "code",
      "metadata": {
        "id": "fAHoba2V4QgO",
        "colab": {
          "base_uri": "https://localhost:8080/"
        },
        "outputId": "d2ce2013-4a07-423c-9f16-97ca6a5ada38"
      },
      "source": [
        "# now using pytorch\n",
        "import torch\n",
        "import torch.nn.functional as F\n",
        "\n",
        "# note: inputs must be Tensors\n",
        "q_tensor = torch.Tensor(q)\n",
        "p_tensor = torch.Tensor(p)\n",
        "\n",
        "F.binary_cross_entropy(p_tensor, q_tensor)"
      ],
      "execution_count": 8,
      "outputs": [
        {
          "output_type": "execute_result",
          "data": {
            "text/plain": [
              "tensor(75.)"
            ]
          },
          "metadata": {},
          "execution_count": 8
        }
      ]
    },
    {
      "cell_type": "code",
      "source": [],
      "metadata": {
        "id": "nVVlZ3RD2hvx"
      },
      "execution_count": null,
      "outputs": []
    }
  ]
}