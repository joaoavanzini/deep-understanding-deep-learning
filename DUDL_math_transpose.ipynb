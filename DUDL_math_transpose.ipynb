{
  "nbformat": 4,
  "nbformat_minor": 0,
  "metadata": {
    "colab": {
      "provenance": [],
      "include_colab_link": true
    },
    "kernelspec": {
      "name": "python3",
      "display_name": "Python 3"
    },
    "language_info": {
      "name": "python"
    }
  },
  "cells": [
    {
      "cell_type": "markdown",
      "metadata": {
        "id": "view-in-github",
        "colab_type": "text"
      },
      "source": [
        "<a href=\"https://colab.research.google.com/github/joaoavanzini/deep-understanding-deep-learning/blob/main/DUDL_math_transpose.ipynb\" target=\"_parent\"><img src=\"https://colab.research.google.com/assets/colab-badge.svg\" alt=\"Open In Colab\"/></a>"
      ]
    },
    {
      "cell_type": "markdown",
      "metadata": {
        "id": "bhWV8oes-wKR"
      },
      "source": [
        "# COURSE: A deep understanding of deep learning\n",
        "## SECTION: Math prerequisites\n",
        "### LECTURE: Vector and matrix transpose\n",
        "#### TEACHER: Mike X Cohen, sincxpress.com\n",
        "##### STUDENT: João Avanzini\n",
        "###### COURSE URL: udemy.com/course/deeplearning_x/?couponCode=202305"
      ]
    },
    {
      "cell_type": "code",
      "metadata": {
        "id": "Yx_Rigz1AffS"
      },
      "source": [
        "# import libraries\n",
        "import numpy as np\n",
        "import torch"
      ],
      "execution_count": 1,
      "outputs": []
    },
    {
      "cell_type": "markdown",
      "metadata": {
        "id": "uakMyq7UBzCP"
      },
      "source": [
        "# Using numpy"
      ]
    },
    {
      "cell_type": "code",
      "metadata": {
        "id": "nG3ur0N-AneX",
        "outputId": "a23c86b1-ea96-4ee7-99a7-7ef54ef1fc54",
        "colab": {
          "base_uri": "https://localhost:8080/"
        }
      },
      "source": [
        "# create a vector\n",
        "nv = np.array([ [1,2,3,4] ])\n",
        "print(nv), print(' ')\n",
        "\n",
        "# transpose it\n",
        "print(nv.T), print(' ')\n",
        "\n",
        "# transpose the transpose!\n",
        "nvT = nv.T\n",
        "print(nvT.T)"
      ],
      "execution_count": 2,
      "outputs": [
        {
          "output_type": "stream",
          "name": "stdout",
          "text": [
            "[[1 2 3 4]]\n",
            " \n",
            "[[1]\n",
            " [2]\n",
            " [3]\n",
            " [4]]\n",
            " \n",
            "[[1 2 3 4]]\n"
          ]
        }
      ]
    },
    {
      "cell_type": "code",
      "metadata": {
        "id": "Vmr-MkomA6K9",
        "outputId": "bc0e44a7-d1a8-48f2-d111-a0a0baf63f48",
        "colab": {
          "base_uri": "https://localhost:8080/"
        }
      },
      "source": [
        "# repeat for a matrix\n",
        "nM = np.array([ [1,2,3,4],\n",
        "                [5,6,7,8]\n",
        "               ])\n",
        "print(nM), print(' ')\n",
        "\n",
        "# transpose it\n",
        "print(nM.T), print(' ')\n",
        "\n",
        "# transpose the transpose!\n",
        "nMT = nM.T\n",
        "print(nMT.T)"
      ],
      "execution_count": 3,
      "outputs": [
        {
          "output_type": "stream",
          "name": "stdout",
          "text": [
            "[[1 2 3 4]\n",
            " [5 6 7 8]]\n",
            " \n",
            "[[1 5]\n",
            " [2 6]\n",
            " [3 7]\n",
            " [4 8]]\n",
            " \n",
            "[[1 2 3 4]\n",
            " [5 6 7 8]]\n"
          ]
        }
      ]
    },
    {
      "cell_type": "markdown",
      "metadata": {
        "id": "oRLFXHk9BP1r"
      },
      "source": [
        "# Using pytorch"
      ]
    },
    {
      "cell_type": "code",
      "metadata": {
        "id": "Kjq-oGoUBTXs",
        "outputId": "d1b141bc-9c86-48c6-ce2a-47cd887bc25f",
        "colab": {
          "base_uri": "https://localhost:8080/"
        }
      },
      "source": [
        "# create a vector\n",
        "tv = torch.tensor([ [1,2,3,4] ])\n",
        "print(tv), print(' ')\n",
        "\n",
        "# transpose it\n",
        "print(tv.T), print(' ')\n",
        "\n",
        "# transpose the transpose!\n",
        "tvT = tv.T\n",
        "print(tvT.T)"
      ],
      "execution_count": 4,
      "outputs": [
        {
          "output_type": "stream",
          "name": "stdout",
          "text": [
            "tensor([[1, 2, 3, 4]])\n",
            " \n",
            "tensor([[1],\n",
            "        [2],\n",
            "        [3],\n",
            "        [4]])\n",
            " \n",
            "tensor([[1, 2, 3, 4]])\n"
          ]
        }
      ]
    },
    {
      "cell_type": "code",
      "metadata": {
        "id": "qwzG0O_aBfnv",
        "outputId": "711ad236-a377-4f2d-e810-a3f28d250e09",
        "colab": {
          "base_uri": "https://localhost:8080/"
        }
      },
      "source": [
        "# repeat for a matrix\n",
        "tM = torch.tensor([ [1,2,3,4],[5,6,7,8] ])\n",
        "print(tM), print(' ')\n",
        "\n",
        "# transpose it\n",
        "print(tM.T), print(' ')\n",
        "\n",
        "# transpose the transpose!\n",
        "tMT = tM.T\n",
        "print(tMT.T)"
      ],
      "execution_count": 5,
      "outputs": [
        {
          "output_type": "stream",
          "name": "stdout",
          "text": [
            "tensor([[1, 2, 3, 4],\n",
            "        [5, 6, 7, 8]])\n",
            " \n",
            "tensor([[1, 5],\n",
            "        [2, 6],\n",
            "        [3, 7],\n",
            "        [4, 8]])\n",
            " \n",
            "tensor([[1, 2, 3, 4],\n",
            "        [5, 6, 7, 8]])\n"
          ]
        }
      ]
    },
    {
      "cell_type": "code",
      "metadata": {
        "id": "cZJVgv8HBfwA"
      },
      "source": [],
      "execution_count": 5,
      "outputs": []
    },
    {
      "cell_type": "code",
      "metadata": {
        "id": "4J6zsIHoBfyp",
        "outputId": "a36ac4e5-428e-4c42-efcf-9724b0254b3e",
        "colab": {
          "base_uri": "https://localhost:8080/"
        }
      },
      "source": [
        "# examine data types\n",
        "print(f'Variable nv is of type {type(nv)}')\n",
        "print(f'Variable nM is of type {type(nM)}')\n",
        "print(f'Variable tv is of type {type(tv)}')\n",
        "print(f'Variable tM is of type {type(tM)}')\n"
      ],
      "execution_count": 6,
      "outputs": [
        {
          "output_type": "stream",
          "name": "stdout",
          "text": [
            "Variable nv is of type <class 'numpy.ndarray'>\n",
            "Variable nM is of type <class 'numpy.ndarray'>\n",
            "Variable tv is of type <class 'torch.Tensor'>\n",
            "Variable tM is of type <class 'torch.Tensor'>\n"
          ]
        }
      ]
    }
  ]
}